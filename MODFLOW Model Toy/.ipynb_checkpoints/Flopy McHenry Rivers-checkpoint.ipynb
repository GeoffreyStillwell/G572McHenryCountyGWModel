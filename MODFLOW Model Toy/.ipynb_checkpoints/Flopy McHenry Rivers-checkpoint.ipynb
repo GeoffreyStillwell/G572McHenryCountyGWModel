{
 "cells": [
  {
   "cell_type": "markdown",
   "metadata": {
    "colab_type": "text",
    "id": "aGqCJ4Bi-tqz"
   },
   "source": [
    "# Flopy Tutorial 1: Steady-State, Confined Aquifer "
   ]
  },
  {
   "cell_type": "markdown",
   "metadata": {
    "colab_type": "text",
    "id": "e-P6TXXqJU05"
   },
   "source": [
    "# Introduction\n",
    "Flopy is a python package, developed to create and run MODFLOW groundwater flow models. The schematic below, illustrates how Flopy communicates with MODFLOW:\n",
    "\n",
    "<img src=\"https://i.imgur.com/n2Dj6QF.png\" title=\"Flopy to MODFLOW Flow Chart\" /></a>\n",
    "\n",
    "* <strong> <font size = 5> 1 </font> </strong> Aquifer properties are collected or estimated from some aquifer system, including dimensions, elevations, hydraulic conductivity, specific storage/yield and location/properties of wells, rivers, lakes or other hydrologic features. \n",
    "\n",
    "* <strong> <font size = 5> 2 </font> </strong> A model is created in a python script using the Flopy package to set up the different Packages MODFLOW uses to run its groundwater flow models, (DIS, BAS, LPF, RIV, WEL, ETC...), as python objects. \n",
    "\n",
    "* <strong> <font size = 5> 3 </font> </strong> Flopy is called to write the MODFLOW input files from these objects. \n",
    "\n",
    "* <strong> <font size = 5> 4 </font> </strong> A Flopy function sends the files to a specified MODFLOW executable program that will be used to solve the groundwater flow model. \n",
    "\n",
    "* <strong> <font size = 5> 5 </font> </strong> The MODFLOW executable program outputs binary data into head and budget files. \n",
    "\n",
    "* <strong> <font size = 5> 6 </font> </strong> Flopy reads in binary head and budget data from the MODFLOW output files.\n",
    "\n",
    "* <strong> <font size = 5> 7 </font> </strong> Data is visualized using Flopy's plotting capabilities.        \n",
    "\n",
    "\n",
    "## Contents of script:\n",
    "\n",
    "* <strong><a href=\"#I\">I: Model Object </a></strong>\n",
    "\n",
    "\n",
    "#### Creating MODFLOW Packages in Flopy:\n",
    "* <strong><a href=\"#II\">II: DIS Package</a> </strong> \n",
    "    <ul>\n",
    "      <li> Discretizing time & space and setting up the MODFLOW DIS file.</li>  \n",
    "        </ul>\n",
    "    \n",
    "* <strong><a href=\"#III\">III: BAS Package</a> </strong>\n",
    "    <ul>\n",
    "      <li> Specifying cell activity and setting up the MODFLOW BAS file.</li>  \n",
    "        </ul>\n",
    "* <strong><a href=\"#IV\">IV: LPF Package</a> </strong>\n",
    "    <ul>\n",
    "      <li> Defining model properties and setting up the MODFLOW LPF file.</li>  \n",
    "        </ul>\n",
    "\n",
    "* <strong><a href=\"#V\">V: OC Package</a> </strong>\n",
    "    <ul>\n",
    "      <li> Specifying the data that the MODFLOW executable will record as output during the model run and setting up the MODFLOW OC package.</li>  \n",
    "        </ul>\n",
    "\n",
    "* <strong><a href=\"#VI\">VI: PCG Package</a> </strong>\n",
    "    <ul>\n",
    "      <li> Assigning the pre-conditioned conjugate gradient solver to the groundwater flow model by setting up the MODFLOW PCG package.</li>  \n",
    "        </ul>\n",
    "\n",
    "#### Writing Files and Running Model:\n",
    "\n",
    "* <strong><a href=\"#VII\">VII: Write MODFLOW Input Files</a> </strong>\n",
    "* <strong><a href=\"#VIII\">VIII: Run MODFLOW executable</a> </strong>\n",
    "\n",
    "#### Post Processing:\n",
    "* <strong><a href=\"#IX\">IX: Read MODFLOW output</a> </strong>\n",
    "* <strong><a href=\"#X\">X: Plot Results</a> </strong>\n",
    "    </li>\n",
    "<ol>\n",
    "\n"
   ]
  },
  {
   "cell_type": "markdown",
   "metadata": {
    "colab_type": "text",
    "id": "Ebx4wqUE-tq4"
   },
   "source": [
    "- First we will import the appropriate packages to run a modflow model in python and display the data"
   ]
  },
  {
   "cell_type": "code",
   "execution_count": 1,
   "metadata": {
    "colab": {
     "base_uri": "https://localhost:8080/",
     "height": 34
    },
    "colab_type": "code",
    "id": "UmQLU45S-tq5",
    "outputId": "8dc0b30f-cd0c-41f0-cf90-8777d8557b0b"
   },
   "outputs": [],
   "source": [
    "import flopy # if you get an error importing flopy, then install using: pip install flopy\n",
    "import numpy as np\n",
    "import matplotlib.pyplot as plt\n",
    "import matplotlib as mp\n",
    "\n",
    "\n",
    "#jupyter specific--included to show plots in notebook\n",
    "%matplotlib inline "
   ]
  },
  {
   "cell_type": "markdown",
   "metadata": {
    "colab_type": "text",
    "id": "TYsgVFMC-tq9"
   },
   "source": [
    " <a name=\"I\"></a> \n",
    " ## I. Create Model Object\n",
    "\n",
    "- We define a Modflow model class object using the following flopy function. The arguments are telling object 'model' what the modelname is and where the MODFLOW .exe file is to use to run the model on your computer. <strong> You will have to modify the exe_name variable to direct flopy to the modflow executable file on your computer!</strong> Note that the default model workspace is the location of your python notebook, so all MODFLOW files will be created there, but you may specify a different workspace if you'd like the files to be created somewhere else. (See: http://modflowpy.github.io/flopydoc/mf.html for more options)"
   ]
  },
  {
   "cell_type": "code",
   "execution_count": 2,
   "metadata": {
    "colab": {},
    "colab_type": "code",
    "id": "RhU9t5Vg-tq9"
   },
   "outputs": [],
   "source": [
    "modelname = \"my_model\"\n",
    "m = flopy.modflow.Modflow(modelname, exe_name = 'mf2005')"
   ]
  },
  {
   "cell_type": "markdown",
   "metadata": {
    "colab_type": "text",
    "id": "Z5qFnrjJ-trA"
   },
   "source": [
    " <a name=\"II\"></a> \n",
    "## II. MODFLOW DIS package\n",
    "Now we attach the DIS package to our model. The DIS package specifies model discretization in space and time. It contains information regarding:\n",
    "- <strong> spatial discretization: </strong> (the number of rows, layers, and columns, as well as cell sizes)\n",
    "- <strong> temporal discretization: </strong> (number of stress periods, steady-state/transient model within a stress period, length of stress periods, and the number of time steps within stress periods)\n",
    "- length and time <strong> units  </strong>\n",
    "\n",
    "### Spatial Discretization\n",
    "- We define a 100 x 100 unit model domain, and discretize this into 10 rows and columns. "
   ]
  },
  {
   "cell_type": "code",
   "execution_count": 3,
   "metadata": {
    "colab": {},
    "colab_type": "code",
    "id": "lMGujmgg-trB"
   },
   "outputs": [],
   "source": [
    "#assign discretization variables\n",
    "Lx = 100.\n",
    "Ly = 100.\n",
    "ztop = 0.\n",
    "zbot = -50.\n",
    "nlay = 1\n",
    "nrow = 10\n",
    "ncol = 10\n",
    "dx = Lx/ncol\n",
    "dy = Ly/nrow\n",
    "dz = (ztop - zbot) / nlay"
   ]
  },
  {
   "cell_type": "markdown",
   "metadata": {
    "colab_type": "text",
    "id": "4RVvBjto-trE"
   },
   "source": [
    "<img src=\"https://i.imgur.com/Abaeeyo.png\" title=\"discretization\" /></a>"
   ]
  },
  {
   "cell_type": "markdown",
   "metadata": {
    "colab_type": "text",
    "id": "r_g1l4NG-trF"
   },
   "source": [
    "### Temporal Discretization\n",
    "\n",
    "To discretize time, we must first specify how many stress periods are involved in this model. This is done through flopy's variable 'nper'. As we are solving a steady-state model, we will only specify 1 stress period."
   ]
  },
  {
   "cell_type": "code",
   "execution_count": 4,
   "metadata": {
    "colab": {},
    "colab_type": "code",
    "id": "qGyoTItl-trG"
   },
   "outputs": [],
   "source": [
    "#specify number of stress periods\n",
    "nper = 1"
   ]
  },
  {
   "cell_type": "markdown",
   "metadata": {
    "colab_type": "text",
    "id": "MXtv1qBN-trJ"
   },
   "source": [
    "We then create a variable called \"steady\" as a list of boolean \"True/False\" flags, one for each stress period, indicating whether the finite difference solver should solve a steady-state or transient model. True=steady-state, False=Transient. Our list will only contain one boolean for the single, steady-state stress period."
   ]
  },
  {
   "cell_type": "code",
   "execution_count": 5,
   "metadata": {
    "colab": {
     "base_uri": "https://localhost:8080/",
     "height": 51
    },
    "colab_type": "code",
    "id": "72Nea-h5-trK",
    "outputId": "fc368da1-e3ef-4aa5-8b0e-d64eeab6d666",
    "scrolled": true
   },
   "outputs": [
    {
     "name": "stdout",
     "output_type": "stream",
     "text": [
      "steady-state data: \n",
      " [True]\n"
     ]
    }
   ],
   "source": [
    "#specify if stress period is transient or steady-state\n",
    "steady = [True]\n",
    "\n",
    "print(\"steady-state data: \\n\", steady)"
   ]
  },
  {
   "cell_type": "markdown",
   "metadata": {
    "colab_type": "text",
    "id": "emYj-jv_-trO"
   },
   "source": [
    "There are several other variables involved in the DIS package that allow the user to specify time-step properties of the stress period data (legnth of stress period, number of time steps per stress period, and time step multiplier). As this model is a single period, steady-state model, these options don't apply and hence we will not specify them."
   ]
  },
  {
   "cell_type": "markdown",
   "metadata": {
    "colab_type": "text",
    "id": "ZgOpDpMV-trP"
   },
   "source": [
    "### Create DIS object\n",
    "\n",
    "The spatial and temporal discretizations are used to create the flopy dis object which will later be used to create the MODFLOW \"dis\" package. "
   ]
  },
  {
   "cell_type": "code",
   "execution_count": 6,
   "metadata": {
    "colab": {},
    "colab_type": "code",
    "id": "mrGyylAl-trQ"
   },
   "outputs": [],
   "source": [
    "#create flopy discretization object, length and time are meters (2) and days (4)\n",
    "dis = flopy.modflow.ModflowDis(model=m, nlay=nlay, nrow=nrow, ncol=ncol, \n",
    "                               delr=dx, delc=dy, top=ztop, botm=zbot, \n",
    "                               itmuni = 4, lenuni = 2, \n",
    "                               nper=nper, steady=steady)"
   ]
  },
  {
   "cell_type": "code",
   "execution_count": 7,
   "metadata": {
    "colab": {
     "base_uri": "https://localhost:8080/",
     "height": 34
    },
    "colab_type": "code",
    "id": "TjJAK2nz-trT",
    "outputId": "3916bfaf-1d37-48a9-f525-e2d358d87e2b"
   },
   "outputs": [
    {
     "data": {
      "text/plain": [
       "1"
      ]
     },
     "execution_count": 7,
     "metadata": {},
     "output_type": "execute_result"
    }
   ],
   "source": [
    "m.dis.nlay"
   ]
  },
  {
   "cell_type": "markdown",
   "metadata": {
    "colab_type": "text",
    "id": "sWxtQ67b-trX"
   },
   "source": [
    "Confused about the arguments given to the flopy.modflow.ModflowDis() function? \n",
    "Check out the Flopy documentation here: http://modflowpy.github.io/flopydoc/mfdis.html \n",
    "\n",
    "If you'd like to see the grid you've created, flopy has plotting capabilities to visualize \"ModelMap\" attributes such as the grid, which it pulls from the flopy \"dis\" object. Note that ModelMap uses matplotlib, so you will want to make sure you have that package imported at the top of your script as well!"
   ]
  },
  {
   "cell_type": "code",
   "execution_count": 8,
   "metadata": {
    "colab": {
     "base_uri": "https://localhost:8080/",
     "height": 301
    },
    "colab_type": "code",
    "id": "niUhwUK5-trZ",
    "outputId": "e1284cff-feb4-4509-a57d-60929512e4c1"
   },
   "outputs": [
    {
     "data": {
      "image/png": "[encoded data removed]",
      "text/plain": [
       "<Figure size 432x288 with 1 Axes>"
      ]
     },
     "metadata": {
      "needs_background": "light"
     },
     "output_type": "display_data"
    }
   ],
   "source": [
    "#use flopy to plot the grid of model 'm'\n",
    "modelmap = flopy.plot.map.PlotMapView(model=m, layer=0)\n",
    "grid = modelmap.plot_grid() \n",
    "plt.xlabel('Lx (m)',fontsize = 14)\n",
    "plt.ylabel('Ly (m)',fontsize = 14)\n",
    "plt.title('Grid', fontsize = 15, fontweight = 'bold')\n",
    "plt.show()"
   ]
  },
  {
   "cell_type": "markdown",
   "metadata": {
    "colab_type": "text",
    "id": "KCwlZfxG-tre"
   },
   "source": [
    " <a name=\"III\"></a> \n",
    "## III. MODFLOW BAS package\n",
    "\n",
    "Next, we attach the BAS package to our model. The BAS package specifies cell activity (how cells will participate in the model run) as well as starting heads to be used in the cells at the start of the groundwater flow simulation.\n",
    "\n",
    "### Define Cell Activity: IBOUND\n",
    "\n",
    "We assign the cell activity using a variable called <strong>IBOUND</strong>. Ibound is defined as an array of integers of form (nlay, nrow, ncol), or one for each cell with flags for the activity level:\n",
    "\n",
    "- <strong> >/= 1: active </strong> (cell has active finite difference equations calculating the head for this cell as well as flows between its neighbors) \n",
    "- <strong> = 0: inactive </strong> (cell has no active finite difference equations associated with it)\n",
    "- <strong> </= 0: constant head </strong>  (cell has active finite difference equation for flows between cells but not for head at the cell as it is kept constant throughout the simulation)\n",
    "\n",
    "For this model, the first and last column are set to be constant heads and the rest of the domain is set as active. "
   ]
  },
  {
   "cell_type": "code",
   "execution_count": 9,
   "metadata": {
    "colab": {
     "base_uri": "https://localhost:8080/",
     "height": 204
    },
    "colab_type": "code",
    "id": "v1mYp41--trg",
    "outputId": "f0f0c0dc-cee7-4976-a8db-09da83763f86"
   },
   "outputs": [
    {
     "name": "stdout",
     "output_type": "stream",
     "text": [
      "ibound values: \n",
      " [[[-1  1  1  1  1  1  1  1  1 -1]\n",
      "  [-1  1  1  1  1  1  1  1  1 -1]\n",
      "  [-1  1  1  1  1  1  1  1  1 -1]\n",
      "  [-1  1  1  1  1  1  1  1  1 -1]\n",
      "  [-1  1  1  1  1  1  1  1  1 -1]\n",
      "  [-1  1  1  1  1  1  1  1  1 -1]\n",
      "  [-1  1  1  1  1  1  1  1  1 -1]\n",
      "  [-1  1  1  1  1  1  1  1  1 -1]\n",
      "  [-1  1  1  1  1  1  1  1  1 -1]\n",
      "  [-1  1  1  1  1  1  1  1  1 -1]]]\n"
     ]
    }
   ],
   "source": [
    "#create ibound as array of ints = 1\n",
    "ibound = np.ones((nlay, nrow, ncol), dtype=np.int32)\n",
    "#assign left and right boundary cells to constant head\n",
    "ibound[:, :, 0] = -1\n",
    "ibound[:, :, -1] = -1\n",
    "\n",
    "print(\"ibound values: \\n\", ibound)"
   ]
  },
  {
   "cell_type": "markdown",
   "metadata": {
    "colab_type": "text",
    "id": "Jn6pjjh--trm"
   },
   "source": [
    "### Define Starting Heads\n",
    "\n",
    "Values for starting heads are given cell by cell with the variable <strong>strt</strong> defined as an array of floats of form (nlay, nrow, ncol). For this model the left and right boundaries are set to be constant heads in the IBOUND variable, so the starting heads assigned to these cells will be set throughout the model. Since we are interested in steady-state flow from a left boundary of h=10m and right boundary of h=0m we assign those conditions in the strt variable."
   ]
  },
  {
   "cell_type": "code",
   "execution_count": 10,
   "metadata": {
    "colab": {
     "base_uri": "https://localhost:8080/",
     "height": 204
    },
    "colab_type": "code",
    "id": "s5vtgQEq-trn",
    "outputId": "a4236f73-0a8f-45b2-af79-a8a07d19b674"
   },
   "outputs": [
    {
     "name": "stdout",
     "output_type": "stream",
     "text": [
      "starting head values: \n",
      " [[[10.  1.  1.  1.  1.  1.  1.  1.  1.  0.]\n",
      "  [10.  1.  1.  1.  1.  1.  1.  1.  1.  0.]\n",
      "  [10.  1.  1.  1.  1.  1.  1.  1.  1.  0.]\n",
      "  [10.  1.  1.  1.  1.  1.  1.  1.  1.  0.]\n",
      "  [10.  1.  1.  1.  1.  1.  1.  1.  1.  0.]\n",
      "  [10.  1.  1.  1.  1.  1.  1.  1.  1.  0.]\n",
      "  [10.  1.  1.  1.  1.  1.  1.  1.  1.  0.]\n",
      "  [10.  1.  1.  1.  1.  1.  1.  1.  1.  0.]\n",
      "  [10.  1.  1.  1.  1.  1.  1.  1.  1.  0.]\n",
      "  [10.  1.  1.  1.  1.  1.  1.  1.  1.  0.]]]\n"
     ]
    }
   ],
   "source": [
    "#create strt as array of floats = 1\n",
    "strt = np.ones((nlay, nrow, ncol), dtype=np.float32)\n",
    "#set left side head to 10 m\n",
    "strt[:, :, 0] = 10.\n",
    "#set right side head to 0 m\n",
    "strt[:, :, -1] = 0.\n",
    "\n",
    "print(\"starting head values: \\n\", strt)"
   ]
  },
  {
   "cell_type": "markdown",
   "metadata": {
    "colab_type": "text",
    "id": "-i7QdIlz-tru"
   },
   "source": [
    "### Create BAS object\n",
    "\n",
    "We now use <strong>strt</strong> and <strong>IBOUND</strong> to make the 'bas' flopy object which will later be used to create the MODFLOW BAS package."
   ]
  },
  {
   "cell_type": "code",
   "execution_count": 11,
   "metadata": {
    "colab": {},
    "colab_type": "code",
    "id": "cgqQ_XDm-trw"
   },
   "outputs": [],
   "source": [
    "#create flopy bas object\n",
    "bas = flopy.modflow.ModflowBas(m, ibound=ibound, strt=strt)"
   ]
  },
  {
   "cell_type": "markdown",
   "metadata": {
    "colab_type": "text",
    "id": "Cv4uiIrE-tr3"
   },
   "source": [
    "If you wish to visualize the ibound variable assigned to this bas package, flopy ModelMap may be also used to display ibound. "
   ]
  },
  {
   "cell_type": "code",
   "execution_count": 12,
   "metadata": {
    "colab": {
     "base_uri": "https://localhost:8080/",
     "height": 301
    },
    "colab_type": "code",
    "id": "Q8I20pkr-tr4",
    "outputId": "09d0d93d-95b3-4694-c795-8ae73c91f3f5"
   },
   "outputs": [
    {
     "data": {
      "image/png": "[encoded data removed]",
      "text/plain": [
       "<Figure size 432x288 with 1 Axes>"
      ]
     },
     "metadata": {
      "needs_background": "light"
     },
     "output_type": "display_data"
    }
   ],
   "source": [
    "#plot grid and ibound\n",
    "modelmap = flopy.plot.PlotMapView(model=m, layer=0)\n",
    "grid = modelmap.plot_grid()\n",
    "ib = modelmap.plot_ibound()\n",
    "#add labels and legend\n",
    "plt.xlabel('Lx (m)',fontsize = 14)\n",
    "plt.ylabel('Ly (m)',fontsize = 14)\n",
    "plt.title('Ibound', fontsize = 15, fontweight = 'bold')\n",
    "plt.legend(handles=[mp.patches.Patch(color='blue',label='Const. Head',ec='black'),\n",
    "                   mp.patches.Patch(color='white',label='Active Cell',ec='black'),\n",
    "                   mp.patches.Patch(color='black',label='Inactive Cell',ec='black')],\n",
    "                   bbox_to_anchor=(1.5,1.0))\n",
    "plt.show(modelmap)"
   ]
  },
  {
   "cell_type": "markdown",
   "metadata": {
    "colab_type": "text",
    "id": "SypW_E9C-tr-"
   },
   "source": [
    " <a name=\"IV\"></a> \n",
    "## IV. MODFLOW LPF package"
   ]
  },
  {
   "cell_type": "markdown",
   "metadata": {
    "colab_type": "text",
    "id": "xkDrxDEm-tsA"
   },
   "source": [
    "The LPF package specifies Layer Properties associated with the flow in each cell. It holds information regarding horizontal and vertical hydraulic conductivity, layer confinement properties (confined/unconfined), specific storage, and specific yield among other flags for the model run for  which we will use flopy's default settings.\n",
    "\n",
    "### Define Hydraulic Conductivity\n",
    "\n",
    "Here we define \"hk\" as a variable for horizontal hydraulic conductivity of 1 m/d that will be the same in the x and y directions, and \"vka\" as a variable for vertical conductivity of 1 m/d. hk and vka are arrays of floats of form (nlay, nrow, ncol) with conductivity values for each cell. You may also a ratio of anisotropy in the y direction for the flopy LPF function, if hk should be anisotropic in the xy plane. http://modflowpy.github.io/flopydoc/mflpf.html has details regarding these options.\n"
   ]
  },
  {
   "cell_type": "code",
   "execution_count": 13,
   "metadata": {
    "colab": {
     "base_uri": "https://localhost:8080/",
     "height": 391
    },
    "colab_type": "code",
    "id": "nRqM4Ftm-tsB",
    "outputId": "2ae4faee-7e93-4744-d5b7-c53b547578e0"
   },
   "outputs": [
    {
     "name": "stdout",
     "output_type": "stream",
     "text": [
      "horizontal k values: \n",
      " [[[1. 1. 1. 1. 1. 1. 1. 1. 1. 1.]\n",
      "  [1. 1. 1. 1. 1. 1. 1. 1. 1. 1.]\n",
      "  [1. 1. 1. 1. 1. 1. 1. 1. 1. 1.]\n",
      "  [1. 1. 1. 1. 1. 1. 1. 1. 1. 1.]\n",
      "  [1. 1. 1. 1. 1. 1. 1. 1. 1. 1.]\n",
      "  [1. 1. 1. 1. 1. 1. 1. 1. 1. 1.]\n",
      "  [1. 1. 1. 1. 1. 1. 1. 1. 1. 1.]\n",
      "  [1. 1. 1. 1. 1. 1. 1. 1. 1. 1.]\n",
      "  [1. 1. 1. 1. 1. 1. 1. 1. 1. 1.]\n",
      "  [1. 1. 1. 1. 1. 1. 1. 1. 1. 1.]]] \n",
      " vertical k values: \n",
      " [[[1. 1. 1. 1. 1. 1. 1. 1. 1. 1.]\n",
      "  [1. 1. 1. 1. 1. 1. 1. 1. 1. 1.]\n",
      "  [1. 1. 1. 1. 1. 1. 1. 1. 1. 1.]\n",
      "  [1. 1. 1. 1. 1. 1. 1. 1. 1. 1.]\n",
      "  [1. 1. 1. 1. 1. 1. 1. 1. 1. 1.]\n",
      "  [1. 1. 1. 1. 1. 1. 1. 1. 1. 1.]\n",
      "  [1. 1. 1. 1. 1. 1. 1. 1. 1. 1.]\n",
      "  [1. 1. 1. 1. 1. 1. 1. 1. 1. 1.]\n",
      "  [1. 1. 1. 1. 1. 1. 1. 1. 1. 1.]\n",
      "  [1. 1. 1. 1. 1. 1. 1. 1. 1. 1.]]]\n"
     ]
    }
   ],
   "source": [
    "#define horizontal hydraulic conductivity\n",
    "hk = np.ones((nlay,nrow,ncol), dtype=np.float32)\n",
    "vk = np.ones((nlay,nrow,ncol), dtype=np.float32)\n",
    "\n",
    "print(\"horizontal k values: \\n\", hk,\n",
    "     \"\\n vertical k values: \\n\", vk)"
   ]
  },
  {
   "cell_type": "markdown",
   "metadata": {
    "colab_type": "text",
    "id": "t9eqiajw-tsG"
   },
   "source": [
    "### Define Specific Storage\n",
    "\n",
    "Specific storage is defined in a similar format to hydraulic conductivity with a value of $1 x 10^{-5} m^{-1}$ for each cell."
   ]
  },
  {
   "cell_type": "code",
   "execution_count": 14,
   "metadata": {
    "colab": {
     "base_uri": "https://localhost:8080/",
     "height": 204
    },
    "colab_type": "code",
    "id": "AaTXILZA-tsI",
    "outputId": "07473e24-e4e7-4a39-beae-8f70488af668"
   },
   "outputs": [
    {
     "name": "stdout",
     "output_type": "stream",
     "text": [
      "specific storage values: \n",
      " [[[1.e-05 1.e-05 1.e-05 1.e-05 1.e-05 1.e-05 1.e-05 1.e-05 1.e-05 1.e-05]\n",
      "  [1.e-05 1.e-05 1.e-05 1.e-05 1.e-05 1.e-05 1.e-05 1.e-05 1.e-05 1.e-05]\n",
      "  [1.e-05 1.e-05 1.e-05 1.e-05 1.e-05 1.e-05 1.e-05 1.e-05 1.e-05 1.e-05]\n",
      "  [1.e-05 1.e-05 1.e-05 1.e-05 1.e-05 1.e-05 1.e-05 1.e-05 1.e-05 1.e-05]\n",
      "  [1.e-05 1.e-05 1.e-05 1.e-05 1.e-05 1.e-05 1.e-05 1.e-05 1.e-05 1.e-05]\n",
      "  [1.e-05 1.e-05 1.e-05 1.e-05 1.e-05 1.e-05 1.e-05 1.e-05 1.e-05 1.e-05]\n",
      "  [1.e-05 1.e-05 1.e-05 1.e-05 1.e-05 1.e-05 1.e-05 1.e-05 1.e-05 1.e-05]\n",
      "  [1.e-05 1.e-05 1.e-05 1.e-05 1.e-05 1.e-05 1.e-05 1.e-05 1.e-05 1.e-05]\n",
      "  [1.e-05 1.e-05 1.e-05 1.e-05 1.e-05 1.e-05 1.e-05 1.e-05 1.e-05 1.e-05]\n",
      "  [1.e-05 1.e-05 1.e-05 1.e-05 1.e-05 1.e-05 1.e-05 1.e-05 1.e-05 1.e-05]]]\n"
     ]
    }
   ],
   "source": [
    "#define specific storage\n",
    "ss = np.ones((nlay,nrow,ncol), dtype=np.float)\n",
    "ss[:,:,:] = 1e-5\n",
    "\n",
    "print(\"specific storage values: \\n\", ss)"
   ]
  },
  {
   "cell_type": "markdown",
   "metadata": {
    "colab_type": "text",
    "id": "eHzb7TBp-tsQ"
   },
   "source": [
    "### Define Aquifer Confinement Properties\n",
    "\n",
    "Layers may be specified in flopy with variable <strong> laytyp </strong>, an array of (nlay) integer flags to say whether a model is:\n",
    "\n",
    "- <strong> =0 Confined:</strong>  Aquifer layers will be treated as confined\n",
    "- <strong> >0 Convertible:</strong> Aquifer layers will be treated as confined if the water level is above the top of the aquifer cell and unconfined if the water level is below the top of the aquifer cell.\n",
    "\n",
    "This single-layer model will be treated as confined."
   ]
  },
  {
   "cell_type": "code",
   "execution_count": 15,
   "metadata": {
    "colab": {
     "base_uri": "https://localhost:8080/",
     "height": 51
    },
    "colab_type": "code",
    "id": "OWc1ue9W-tsQ",
    "outputId": "25c1863a-e5c2-42ba-8b8e-ce493a701cbc"
   },
   "outputs": [
    {
     "name": "stdout",
     "output_type": "stream",
     "text": [
      "layer type values: \n",
      " [0]\n"
     ]
    }
   ],
   "source": [
    "#define layer type as confined\n",
    "laytyp = np.zeros((nlay,), dtype=np.int32)\n",
    "\n",
    "print(\"layer type values: \\n\", laytyp)"
   ]
  },
  {
   "cell_type": "markdown",
   "metadata": {
    "colab_type": "text",
    "id": "AUAWWJh3-tsT"
   },
   "source": [
    "### Define LPF object\n",
    "We now use <strong>hk</strong>, <strong>vk</strong>,  <strong>ss</strong>, and <strong>laytyp</strong> to make the 'lpf' flopy object which will be used to create the MODFLOW LPF package. <strong>ipakcb</strong> is a flag to say whether we will save cell by cell buget data (flows etc) (ipakcb>0 = save data). (<strong>Note:</strong> Flopy claims that budget data saves by using the ipakcb default settings, but it seems that ipakcb must be explicitly specified in order to be saved.)"
   ]
  },
  {
   "cell_type": "code",
   "execution_count": 16,
   "metadata": {
    "colab": {},
    "colab_type": "code",
    "id": "wTt_as_r-tsT"
   },
   "outputs": [],
   "source": [
    "lpf = flopy.modflow.ModflowLpf(model=m, hk=hk, vka=vk, ss=ss, laytyp=laytyp, ipakcb=1)"
   ]
  },
  {
   "cell_type": "markdown",
   "metadata": {
    "colab_type": "text",
    "id": "lN9NnaJp-tsW"
   },
   "source": [
    " <a name=\"V\"></a> \n",
    "## V. MODFLOW OC Package\n",
    "\n",
    "The OC package tells MODFLOW which attributes of the head and flow solutions should be printed and saved for each stress period during the model run. \n",
    "\n",
    "### Create Output Control Stress Period Data \n",
    "To designate what data to save, we create variable <strong> spd </strong> as a  dictionary of stress period data to be used as an argument for the flopy oc function. This takes the form: \n",
    "\n",
    "spd = {(stress period, time step): ['PRINT HEAD', 'PRINT BUDGET', 'SAVE HEAD', 'SAVE DRAWDOWN', 'SAVE IBOUND', 'SAVE BUDGET']} \n",
    "\n",
    "<strong> Note </strong> that the list of strings may be modified if you wish to only save some of the data. Here we will choose to record and save budget and head values for our steady-state model with a single stress period/time step as we specified in the 'dis' object."
   ]
  },
  {
   "cell_type": "code",
   "execution_count": 17,
   "metadata": {
    "colab": {
     "base_uri": "https://localhost:8080/",
     "height": 51
    },
    "colab_type": "code",
    "id": "ZhS76ZhR-tsW",
    "outputId": "d9d4519b-16d7-4d21-ca91-1985e547c3b4"
   },
   "outputs": [
    {
     "name": "stdout",
     "output_type": "stream",
     "text": [
      "oc stress period data: \n",
      " {(0, 0): ['print head', 'print budget', 'save head', 'save budget']}\n"
     ]
    }
   ],
   "source": [
    "#create oc stress period data. \n",
    "spd = {(0, 0): ['print head', 'print budget', 'save head', 'save budget']}\n",
    "\n",
    "print(\"oc stress period data: \\n\", spd)"
   ]
  },
  {
   "cell_type": "markdown",
   "metadata": {
    "colab_type": "text",
    "id": "csjXWIGa-tsY"
   },
   "source": [
    "### Define OC object\n",
    "We will use <strong>spd</strong> to make the 'oc' flopy object which will later be used to create the MODFLOW OC package."
   ]
  },
  {
   "cell_type": "code",
   "execution_count": 18,
   "metadata": {
    "colab": {},
    "colab_type": "code",
    "id": "bXAWNdCl-tsZ"
   },
   "outputs": [],
   "source": [
    "oc = flopy.modflow.ModflowOc(model=m, stress_period_data=spd, compact=True)"
   ]
  },
  {
   "cell_type": "markdown",
   "metadata": {
    "colab_type": "text",
    "collapsed": true,
    "id": "AkSlPEE0-tsc"
   },
   "source": [
    " <a name=\"VI\"></a> \n",
    "## VI. MODFLOW PCG Package\n",
    "\n",
    "Attaching the PCG Package to a MODFLOW model, tells MODFLOW to use the Preconditioned Conjugate Gradient Package to solve the finite difference equation. Seeing as this model is steady-state in a very simple domain, the PCG package should have little trouble solving the parabolic groundwater flow equation with its default settings. However, MODFLOW has numerous other solver packages (Newton-Raphson (NWT), Direct Solver (DE4), Strongly Implicit Procedure (SIP), etc) that may be applicable to other models. Additionally, you may want to tweak the solving criterion depending on your model. If you are interested in the nitty gritty of these methods, the MODFLOW-2005 manual is a good resource: https://pubs.usgs.gov/tm/2005/tm6A16/PDF/TM6A16.pdf. \n",
    "\n",
    "Additionally, MODFLOW online describes these solvers: https://water.usgs.gov/ogw/modflow/MODFLOW-2005-Guide/index.html?oc.htm\n",
    "\n",
    "And Flopy documents its communication with the PCG MODFLOW package:\n",
    "http://modflowpy.github.io/flopydoc/mfpcg.html\n"
   ]
  },
  {
   "cell_type": "markdown",
   "metadata": {
    "colab_type": "text",
    "id": "AhjNM62Q-tsc"
   },
   "source": [
    "### Define PCG Object\n",
    "\n",
    "Here we will create the flopy pcg object, with its default solver settings, which will be used to create the MODFLOW PCG package."
   ]
  },
  {
   "cell_type": "code",
   "execution_count": 19,
   "metadata": {
    "colab": {},
    "colab_type": "code",
    "id": "MiM8z4kP-tsd"
   },
   "outputs": [],
   "source": [
    "pcg = flopy.modflow.ModflowPcg(model=m)"
   ]
  },
  {
   "cell_type": "markdown",
   "metadata": {
    "colab_type": "text",
    "id": "Bziadt8U-tsf"
   },
   "source": [
    " <a name=\"VII\"></a> \n",
    "## VII. Write MODFLOW Input Files\n",
    "\n",
    "Now that we have created all the flopy objects for the packages we wish to attach to our model (dis, bas, lpf, oc, and pcg), we can use flopy to write the MODFLOW input files for our MODFLOW executable to read. This is done simply with:"
   ]
  },
  {
   "cell_type": "code",
   "execution_count": 20,
   "metadata": {
    "colab": {},
    "colab_type": "code",
    "id": "nRNxjocD-tsg"
   },
   "outputs": [],
   "source": [
    "#write MODFLOW input files\n",
    "m.write_input()"
   ]
  },
  {
   "cell_type": "markdown",
   "metadata": {
    "colab_type": "text",
    "id": "0xUnV9K_-tsi"
   },
   "source": [
    "Flopy should have created 6 new files in your working directory that look something like:\n",
    "\n",
    "<img src=\"https://i.imgur.com/AjODHeO.png\" title=\"modflow_files\" /></a>\n",
    "\n",
    "The file to pay attention to is the \"my_model.nam\" file. This file governs which packages will be attached to your MODFLOW file. Inside the name file it will list all the packages to be attached to your model as well as specify that BINARY DATA files that it will write as an output. (my_model.hds, my_model.cbc)\n",
    "\n",
    "<img src=\"https://i.imgur.com/8KOHV9T.png\" title=\"nam_file\" /></a>\n",
    "\n",
    "Another file to pay attention to, post run, is the LIST file. This will have additional information on how the packages are attached to your model as well as MODFLOW mass-balance budgets during the model run. "
   ]
  },
  {
   "cell_type": "markdown",
   "metadata": {
    "colab_type": "text",
    "id": "Mdj15LLe-tsj"
   },
   "source": [
    " <a name=\"VIII\"></a> \n",
    "## VIII. Run MODFLOW Model\n",
    "\n",
    "We can now run the MODFLOW model with the packages specified in the .nam file using the executable specified in the definition of our flopy model 'm':"
   ]
  },
  {
   "cell_type": "code",
   "execution_count": 21,
   "metadata": {
    "colab": {
     "base_uri": "https://localhost:8080/",
     "height": 341
    },
    "colab_type": "code",
    "id": "46RApn-U-tsk",
    "outputId": "76cea2e7-bc1f-48a6-8f27-038d56aaac4b"
   },
   "outputs": [
    {
     "name": "stdout",
     "output_type": "stream",
     "text": [
      "FloPy is using the following  executable to run the model: .\\mf2005.EXE\n",
      "\n",
      "                                  MODFLOW-2005     \n",
      "    U.S. GEOLOGICAL SURVEY MODULAR FINITE-DIFFERENCE GROUND-WATER FLOW MODEL\n",
      "                             Version 1.12.00 2/3/2017                        \n",
      "\n",
      " Using NAME file: my_model.nam \n",
      " Run start date and time (yyyy/mm/dd hh:mm:ss): 2022/03/08 23:21:29\n",
      "\n",
      " Solving:  Stress period:     1    Time step:     1    Ground-Water Flow Eqn.\n",
      " Run end date and time (yyyy/mm/dd hh:mm:ss): 2022/03/08 23:21:29\n",
      " Elapsed run time:  0.008 Seconds\n",
      "\n",
      "  Normal termination of simulation\n"
     ]
    }
   ],
   "source": [
    "# Run the model\n",
    "success, mfoutput = m.run_model(pause=False, report=True)\n",
    "if not success:\n",
    "    raise Exception('MODFLOW did not terminate normally.')"
   ]
  },
  {
   "cell_type": "markdown",
   "metadata": {
    "colab_type": "text",
    "id": "w9Tz7FRB-tsn"
   },
   "source": [
    "If the run was successful, you should have seen a window reporting the run time data. "
   ]
  },
  {
   "cell_type": "markdown",
   "metadata": {
    "colab_type": "text",
    "id": "fycMgCk7-tsn"
   },
   "source": [
    " <a name=\"IX\"></a> \n",
    "## IX. Read Head/Flow Data\n",
    "\n",
    "We will now make use of flopy's binary file reader and plotting capabilities to read and display the model output."
   ]
  },
  {
   "cell_type": "markdown",
   "metadata": {
    "colab_type": "text",
    "id": "3BgOzzHT-tso"
   },
   "source": [
    "### Read Head Data\n",
    "\n",
    "Head data from the my_model.hds file will be stored as a flopy head object."
   ]
  },
  {
   "cell_type": "code",
   "execution_count": 22,
   "metadata": {
    "colab": {},
    "colab_type": "code",
    "id": "c6Xhze2B-tsp"
   },
   "outputs": [
    {
     "name": "stdout",
     "output_type": "stream",
     "text": [
      "flopy head object: \n",
      " <flopy.utils.binaryfile.HeadFile object at 0x0000024C03705820>\n"
     ]
    }
   ],
   "source": [
    "#extract binary data from head file as flopy head object\n",
    "headobj = flopy.utils.binaryfile.HeadFile(modelname+'.hds')\n",
    "\n",
    "print(\"flopy head object: \\n\", headobj)"
   ]
  },
  {
   "cell_type": "markdown",
   "metadata": {
    "colab_type": "text",
    "id": "FGcXE0-K-tss"
   },
   "source": [
    "This head object has different attributes that can be extracted from it such as the times used in the model run, head data, databytes and more. For information on how to access these functions see: http://modflowpy.github.io/flopydoc/binaryfile.html\n",
    "\n",
    "For this model, we will extract the head data after our single stress period (totim=1.0)."
   ]
  },
  {
   "cell_type": "code",
   "execution_count": 23,
   "metadata": {
    "colab": {},
    "colab_type": "code",
    "id": "Mm_sQnvB-tss"
   },
   "outputs": [],
   "source": [
    "#extract head data from head object\n",
    "head = headobj.get_data(totim=1.0)"
   ]
  },
  {
   "cell_type": "code",
   "execution_count": 24,
   "metadata": {
    "colab": {},
    "colab_type": "code",
    "id": "XWj475Qg-tsu"
   },
   "outputs": [
    {
     "data": {
      "text/plain": [
       "array([[[10.       ,  8.888889 ,  7.7777777,  6.6666665,  5.5555553,\n",
       "          4.4444447,  3.3333333,  2.2222223,  1.1111112,  0.       ],\n",
       "        [10.       ,  8.888889 ,  7.7777777,  6.6666665,  5.5555553,\n",
       "          4.4444447,  3.3333333,  2.2222223,  1.1111112,  0.       ],\n",
       "        [10.       ,  8.888889 ,  7.7777777,  6.6666665,  5.5555553,\n",
       "          4.4444447,  3.3333333,  2.2222223,  1.1111112,  0.       ],\n",
       "        [10.       ,  8.888889 ,  7.7777777,  6.6666665,  5.5555553,\n",
       "          4.4444447,  3.3333333,  2.2222223,  1.1111112,  0.       ],\n",
       "        [10.       ,  8.888889 ,  7.7777777,  6.6666665,  5.5555553,\n",
       "          4.4444447,  3.3333333,  2.2222223,  1.1111112,  0.       ],\n",
       "        [10.       ,  8.888889 ,  7.7777777,  6.6666665,  5.5555553,\n",
       "          4.4444447,  3.3333333,  2.2222223,  1.1111112,  0.       ],\n",
       "        [10.       ,  8.888889 ,  7.7777777,  6.6666665,  5.5555553,\n",
       "          4.4444447,  3.3333333,  2.2222223,  1.1111112,  0.       ],\n",
       "        [10.       ,  8.888889 ,  7.7777777,  6.6666665,  5.5555553,\n",
       "          4.4444447,  3.3333333,  2.2222223,  1.1111112,  0.       ],\n",
       "        [10.       ,  8.888889 ,  7.7777777,  6.6666665,  5.5555553,\n",
       "          4.4444447,  3.3333333,  2.2222223,  1.1111112,  0.       ],\n",
       "        [10.       ,  8.888889 ,  7.7777777,  6.6666665,  5.5555553,\n",
       "          4.4444447,  3.3333333,  2.2222223,  1.1111112,  0.       ]]],\n",
       "      dtype=float32)"
      ]
     },
     "execution_count": 24,
     "metadata": {},
     "output_type": "execute_result"
    }
   ],
   "source": [
    "head"
   ]
  },
  {
   "cell_type": "markdown",
   "metadata": {
    "colab_type": "text",
    "id": "w2kzCLhs-tsw"
   },
   "source": [
    "### Read Flow Data\n",
    "\n",
    "Flopy's binary budget data reader will be used to read in the budget data from my_model.cbc as a flopy budget object. (See: http://modflowpy.github.io/flopydoc/binaryfile.html#flopy.utils.binaryfile.CellBudgetFile for more info)"
   ]
  },
  {
   "cell_type": "code",
   "execution_count": 25,
   "metadata": {
    "colab": {},
    "colab_type": "code",
    "id": "8Iwx6e7i-tsx"
   },
   "outputs": [
    {
     "name": "stdout",
     "output_type": "stream",
     "text": [
      "flopy budget object: \n",
      " <flopy.utils.binaryfile.CellBudgetFile object at 0x0000024C037055E0>\n"
     ]
    }
   ],
   "source": [
    "#extract binary data from budget file as flopy budget object\n",
    "budgobj = flopy.utils.binaryfile.CellBudgetFile(modelname+'.cbc')\n",
    "\n",
    "print(\"flopy budget object: \\n\", budgobj)"
   ]
  },
  {
   "cell_type": "markdown",
   "metadata": {
    "colab_type": "text",
    "id": "uKNDrYb_-tsz"
   },
   "source": [
    "We can now extract the data from this by passing a string in the CellBudgetFile function's \"text\" argument to call which part of the data we want to get. Here we will access the flow data for the right face  and front face of each grid cell and save the data as variables 'frf' and 'fff' which are output as arrays."
   ]
  },
  {
   "cell_type": "code",
   "execution_count": 26,
   "metadata": {
    "colab": {},
    "colab_type": "code",
    "id": "S99JbvlX-ts0"
   },
   "outputs": [
    {
     "name": "stdout",
     "output_type": "stream",
     "text": [
      "Flow through Right Face of Grid Cells m^3/d \n",
      " [array([[[55.555557, 55.555557, 55.555557, 55.555557, 55.555557,\n",
      "         55.555557, 55.555557, 55.555557, 55.555557,  0.      ],\n",
      "        [55.555557, 55.555557, 55.555557, 55.555557, 55.555557,\n",
      "         55.555553, 55.555557, 55.555557, 55.555557,  0.      ],\n",
      "        [55.555557, 55.555557, 55.555557, 55.555557, 55.555557,\n",
      "         55.555553, 55.555557, 55.555557, 55.555557,  0.      ],\n",
      "        [55.555557, 55.555557, 55.555557, 55.555557, 55.555557,\n",
      "         55.555557, 55.555557, 55.555557, 55.555557,  0.      ],\n",
      "        [55.555557, 55.555557, 55.555557, 55.555557, 55.555557,\n",
      "         55.555557, 55.555557, 55.555557, 55.555557,  0.      ],\n",
      "        [55.555557, 55.555557, 55.555557, 55.555557, 55.555557,\n",
      "         55.555557, 55.555557, 55.555557, 55.555557,  0.      ],\n",
      "        [55.555557, 55.555557, 55.555557, 55.555557, 55.555557,\n",
      "         55.555557, 55.555557, 55.555557, 55.555557,  0.      ],\n",
      "        [55.555557, 55.555557, 55.555557, 55.555557, 55.555557,\n",
      "         55.555557, 55.555557, 55.555557, 55.555557,  0.      ],\n",
      "        [55.555557, 55.555557, 55.555557, 55.555557, 55.555557,\n",
      "         55.555557, 55.555557, 55.555557, 55.555557,  0.      ],\n",
      "        [55.555557, 55.555557, 55.555557, 55.555557, 55.555557,\n",
      "         55.555557, 55.555557, 55.555557, 55.555557,  0.      ]]],\n",
      "      dtype=float32)] \n",
      " Flow through Front Face of Grid Cells m^3/d \n",
      " [array([[[ 0.00000000e+00, -5.76354076e-08,  1.75073950e-07,\n",
      "          3.44864588e-07,  5.15218687e-07,  2.24529728e-07,\n",
      "         -1.73579153e-07, -8.10868030e-08,  7.67723662e-09,\n",
      "          0.00000000e+00],\n",
      "        [ 0.00000000e+00, -1.46309546e-07, -1.54793028e-07,\n",
      "         -6.91557922e-09,  1.57410000e-07,  1.94983755e-07,\n",
      "          1.99387856e-07,  9.59867279e-08, -5.01493389e-08,\n",
      "          0.00000000e+00],\n",
      "        [ 0.00000000e+00, -1.52585329e-07,  8.69398349e-08,\n",
      "          8.20773209e-08, -6.69469813e-08, -5.85843836e-08,\n",
      "          3.85580670e-08,  6.68093563e-08,  1.28730576e-07,\n",
      "          0.00000000e+00],\n",
      "        [ 0.00000000e+00, -5.15319343e-08, -7.35034256e-09,\n",
      "         -4.72663260e-08, -5.27640154e-08, -8.56958522e-08,\n",
      "          4.65729890e-08,  1.06644158e-07,  9.46065768e-08,\n",
      "          0.00000000e+00],\n",
      "        [ 0.00000000e+00,  3.96164864e-07,  1.54104598e-07,\n",
      "          2.25429453e-08, -1.72430077e-07,  1.76899828e-08,\n",
      "         -2.29653185e-08,  1.24745455e-07, -4.98273636e-08,\n",
      "          0.00000000e+00],\n",
      "        [ 0.00000000e+00,  7.11379400e-08, -1.23860559e-07,\n",
      "         -2.06677527e-07, -5.44072805e-08, -2.63615352e-08,\n",
      "          2.33508768e-09, -1.22501717e-07, -2.65788067e-08,\n",
      "          0.00000000e+00],\n",
      "        [ 0.00000000e+00, -2.61348816e-07, -1.10886724e-07,\n",
      "         -8.63845457e-08, -4.19615453e-08, -1.08440631e-07,\n",
      "          1.79196658e-08, -4.04092759e-08,  4.03597937e-08,\n",
      "          0.00000000e+00],\n",
      "        [ 0.00000000e+00, -6.76386946e-08, -9.51637844e-08,\n",
      "          5.89264637e-08,  8.77600215e-09,  3.89735817e-08,\n",
      "          1.53428594e-08, -1.22564941e-07, -2.94046458e-08,\n",
      "          0.00000000e+00],\n",
      "        [ 0.00000000e+00, -1.23607080e-07,  3.75329989e-08,\n",
      "         -5.87592197e-08, -3.09734872e-07,  1.03845821e-07,\n",
      "          2.44936516e-08,  3.62901972e-07,  2.76170852e-07,\n",
      "          0.00000000e+00],\n",
      "        [ 0.00000000e+00,  0.00000000e+00,  0.00000000e+00,\n",
      "          0.00000000e+00,  0.00000000e+00,  0.00000000e+00,\n",
      "          0.00000000e+00,  0.00000000e+00,  0.00000000e+00,\n",
      "          0.00000000e+00]]], dtype=float32)]\n"
     ]
    }
   ],
   "source": [
    "frf = budgobj.get_data(text='flow right face', totim=1.0)\n",
    "fff = budgobj.get_data(text='flow front face', totim=1.0)\n",
    "\n",
    "print(\"Flow through Right Face of Grid Cells m^3/d \\n\", frf,\n",
    "     \"\\n Flow through Front Face of Grid Cells m^3/d \\n\", fff)"
   ]
  },
  {
   "cell_type": "markdown",
   "metadata": {
    "colab_type": "text",
    "id": "88VU5HnG-ts2"
   },
   "source": [
    "Here, it is good to check if results seem reasonable; for this steady-state model, it makes sense that  we see a constant value in the \"Flow Right Face\" output array as the higher head on the left side of the model induces flow from left to right. The \"Flow Front Face\" array, has very small positive and negative values in it, suggesting that there are potential numerical oscillations in our solution. However, these fluctuations are so small that the output may still be appropriate depending on the application/precision we are looking for. \n",
    "\n",
    "It is good to look for numerical nuances in modeling practice, but the data is much easier to visualize by plotting with flopy's plotting cababilities. "
   ]
  },
  {
   "cell_type": "markdown",
   "metadata": {
    "colab_type": "text",
    "id": "_njupWDf-ts3"
   },
   "source": [
    " <a name=\"X\"></a> \n",
    "## X. Plotting"
   ]
  },
  {
   "cell_type": "code",
   "execution_count": 27,
   "metadata": {
    "colab": {},
    "colab_type": "code",
    "id": "O3iu7UM_-ts4"
   },
   "outputs": [
    {
     "data": {
      "image/png": "[encoded data removed]",
      "text/plain": [
       "<Figure size 720x720 with 2 Axes>"
      ]
     },
     "metadata": {
      "needs_background": "light"
     },
     "output_type": "display_data"
    }
   ],
   "source": [
    "#plot results\n",
    "plt.figure(figsize=(10,10)) #create 10 x 10 figure\n",
    "modelmap = flopy.plot.map.PlotMapView(model=m, layer=0) #use modelmap to attach plot to model\n",
    "grid = modelmap.plot_grid() #plot model grid\n",
    "contour_levels = np.linspace(head[0].min(),head[0].max(),11) #set contour levels for contouring head\n",
    "head_contours = modelmap.contour_array(head, levels=contour_levels) #create head contours\n",
    "flows = modelmap.plot_discharge(frf[0], fff[0], head=head) #create discharge arrows\n",
    "\n",
    "#display parameters\n",
    "plt.xlabel('Lx (m)',fontsize = 14)\n",
    "plt.ylabel('Ly (m)',fontsize = 14)\n",
    "plt.title('Steady-State Model, Flow(m^3/d) and Head(m) Results', fontsize = 15, fontweight = 'bold')\n",
    "plt.colorbar(head_contours,aspect=5)\n",
    "plt.show(modelmap)"
   ]
  },
  {
   "cell_type": "markdown",
   "metadata": {
    "colab_type": "text",
    "id": "-ShG7QiT-ts7"
   },
   "source": [
    "### 3D Surface Plot \n",
    "\n",
    "<strong> Note: </strong> This is not part of flopy's plotting, and uses a matplotlib function from a 3d projection toolkit. Flopy takes cell indexing where the top left of the grid is the (0,0) cell index while the Length & Width units start at 0 in the lower left of the grid. This seems a little wierd, but it makes it easy to match up an array of cell by cell numbers to their respective locations on the grid when assigning properties or observing output data. Flopy's plotting functions automatically flip the resultant head data to display on its proper grid, however, for the 3d plots below, you'll see the function np.flipud() is used to flip the data array to plot in the same direction."
   ]
  },
  {
   "cell_type": "code",
   "execution_count": 28,
   "metadata": {
    "colab": {},
    "colab_type": "code",
    "id": "JtuQ2kTL-ts7"
   },
   "outputs": [
    {
     "data": {
      "image/png": "[encoded data removed]",
      "text/plain": [
       "<Figure size 864x360 with 2 Axes>"
      ]
     },
     "metadata": {
      "needs_background": "light"
     },
     "output_type": "display_data"
    }
   ],
   "source": [
    "#import 3d axes toolkit from matplotlib\n",
    "from mpl_toolkits.mplot3d import Axes3D\n",
    "\n",
    "#create 3d figure\n",
    "fig_3d = plt.figure(figsize=(12,5))\n",
    "ax = fig_3d.gca(projection='3d')\n",
    "\n",
    "#set X, Y, Z variables for 3d plot to be our model domain and head solution\n",
    "X = np.arange(0,Lx,dx)\n",
    "Y = np.arange(0,Ly,dy)\n",
    "X, Y = np.meshgrid(X, Y)\n",
    "Z = np.flipud(head[0])\n",
    "\n",
    "#create surface and labels\n",
    "surf = ax.plot_surface(X,Y,Z, cmap = 'viridis', linewidth=0, label='head')\n",
    "fig_3d.colorbar(surf,shrink=0.5,aspect=5).set_label('Head (m)',fontsize=10,fontweight='bold')\n",
    "ax.set_xlabel('Lx (m)', fontsize=15, fontweight='bold')\n",
    "ax.set_ylabel('Ly (m)', fontsize=15, fontweight='bold')\n",
    "ax.set_title('Steady-State Model Head Profile', fontsize=15, fontweight='bold')\n",
    "plt.show(surf)"
   ]
  },
  {
   "cell_type": "markdown",
   "metadata": {
    "colab_type": "text",
    "id": "mB5AE_x5-ts9"
   },
   "source": [
    "Congratulations! You just used flopy to run a single-layer, steady-state model in MODFLOW-2005! \n",
    "\n",
    "<strong>Activity:</strong> Try going back to where we defined the starting heads in the LPF package and changing the left and right boundary conditions. How does the head surface change?\n",
    "\n",
    "What happens if you add another row of constant head cells to the model by modifying the IBOUND variable and set those to a different value of starting heads?"
   ]
  }
 ],
 "metadata": {
  "colab": {
   "name": "Flopy Tutorial 1- Steady-State, Confined Aquifer.ipynb",
   "provenance": [],
   "toc_visible": true
  },
  "kernelspec": {
   "display_name": "Python 3",
   "language": "python",
   "name": "python3"
  },
  "language_info": {
   "codemirror_mode": {
    "name": "ipython",
    "version": 3
   },
   "file_extension": ".py",
   "mimetype": "text/x-python",
   "name": "python",
   "nbconvert_exporter": "python",
   "pygments_lexer": "ipython3",
   "version": "3.8.5"
  }
 },
 "nbformat": 4,
 "nbformat_minor": 1
}
